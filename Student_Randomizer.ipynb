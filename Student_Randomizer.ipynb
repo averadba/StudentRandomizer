{
 "cells": [
  {
   "cell_type": "markdown",
   "metadata": {},
   "source": [
    "# Student Randomizer"
   ]
  },
  {
   "cell_type": "code",
   "execution_count": 15,
   "metadata": {},
   "outputs": [
    {
     "name": "stderr",
     "output_type": "stream",
     "text": [
      "2022-07-26 17:13:29.442 INFO    numexpr.utils: Note: NumExpr detected 12 cores but \"NUMEXPR_MAX_THREADS\" not set, so enforcing safe limit of 8.\n",
      "2022-07-26 17:13:29.443 INFO    numexpr.utils: NumExpr defaulting to 8 threads.\n"
     ]
    }
   ],
   "source": [
    "import random\n",
    "import streamlit as st"
   ]
  },
  {
   "cell_type": "code",
   "execution_count": 16,
   "metadata": {},
   "outputs": [
    {
     "name": "stderr",
     "output_type": "stream",
     "text": [
      "2022-07-26 17:16:58.937 \n",
      "  \u001b[33m\u001b[1mWarning:\u001b[0m to view this Streamlit app on a browser, run it with the following\n",
      "  command:\n",
      "\n",
      "    streamlit run c:\\Users\\alexi\\anaconda3\\lib\\site-packages\\ipykernel_launcher.py [ARGUMENTS]\n"
     ]
    },
    {
     "data": {
      "text/plain": [
       "DeltaGenerator(_root_container=0, _provided_cursor=None, _parent=None, _block_type=None, _form_data=None)"
      ]
     },
     "execution_count": 16,
     "metadata": {},
     "output_type": "execute_result"
    }
   ],
   "source": [
    "st.markdown(\"\"\" <style>\n",
    "#MainMenu {visibility: hidden;}\n",
    "footer {visibility: hidden;}\n",
    "</style> \"\"\", unsafe_allow_html=True)"
   ]
  },
  {
   "cell_type": "code",
   "execution_count": null,
   "metadata": {},
   "outputs": [],
   "source": [
    "st.title(\"Student Randomizer\")\n",
    "st.header(\"by: Alexis Vera\")\n",
    "st.write(\"Use this app to randomly assign students in your classroom into teams.\")"
   ]
  },
  {
   "cell_type": "code",
   "execution_count": 3,
   "metadata": {},
   "outputs": [],
   "source": [
    "people = [\"Ian\", \"Kevin\", \"Carl\", \"Veronica\", \"Daniel\", \"Christian\", \"Sean\", \"Frank\", \"Phillip\", \"Fiona\"]"
   ]
  },
  {
   "cell_type": "code",
   "execution_count": 6,
   "metadata": {},
   "outputs": [],
   "source": [
    "def make_random_groups(students, number_of_groups):\n",
    "    \n",
    "    #Shuffle list of students\n",
    "    random.shuffle(students)\n",
    "    \n",
    "    #Create groups\n",
    "    all_groups = []\n",
    "    for index in range(number_of_groups):\n",
    "        group = students[index::number_of_groups]\n",
    "        all_groups.append(group)\n",
    "    \n",
    "    #Format and display groups\n",
    "    for index, group in enumerate(all_groups):\n",
    "        print(f\"✨Group {index+1}✨: {' / '.join(group)}\\n\")"
   ]
  },
  {
   "cell_type": "code",
   "execution_count": 14,
   "metadata": {},
   "outputs": [
    {
     "name": "stdout",
     "output_type": "stream",
     "text": [
      "✨Group 1✨: Phillip / Carl / Frank\n",
      "\n",
      "✨Group 2✨: Kevin / Ian / Christian\n",
      "\n",
      "✨Group 3✨: Daniel / Sean\n",
      "\n",
      "✨Group 4✨: Veronica / Fiona\n",
      "\n"
     ]
    }
   ],
   "source": [
    "make_random_groups(people, 4)"
   ]
  }
 ],
 "metadata": {
  "kernelspec": {
   "display_name": "Python 3.8.13 ('base')",
   "language": "python",
   "name": "python3"
  },
  "language_info": {
   "codemirror_mode": {
    "name": "ipython",
    "version": 3
   },
   "file_extension": ".py",
   "mimetype": "text/x-python",
   "name": "python",
   "nbconvert_exporter": "python",
   "pygments_lexer": "ipython3",
   "version": "3.8.13"
  },
  "orig_nbformat": 4,
  "vscode": {
   "interpreter": {
    "hash": "9775c12e7ee0fd63cd5899aac483769471b18cea5dbb74f58b032f9912f316a1"
   }
  }
 },
 "nbformat": 4,
 "nbformat_minor": 2
}
